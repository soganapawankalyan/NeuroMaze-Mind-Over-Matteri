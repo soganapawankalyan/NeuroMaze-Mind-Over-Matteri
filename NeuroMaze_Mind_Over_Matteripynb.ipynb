{
  "nbformat": 4,
  "nbformat_minor": 0,
  "metadata": {
    "colab": {
      "provenance": []
    },
    "kernelspec": {
      "name": "python3",
      "display_name": "Python 3"
    },
    "language_info": {
      "name": "python"
    }
  },
  "cells": [
    {
      "cell_type": "markdown",
      "source": [
        "# **Game** **Title**: \"NeuroMaze: Mind Over Matter\""
      ],
      "metadata": {
        "id": "4KO-hceSEw1A"
      }
    },
    {
      "cell_type": "markdown",
      "source": [
        "🎮 Game Concept:\n",
        "A fast-paced mini memory game where players are shown 5 colored symbols in a sequence (e.g., 🟥, 🟩, 🟨, 🟦, 🟪) for 5 seconds. Then, they're asked a mind-bending question that isn’t directly about the sequence — like:\n",
        "\n",
        "“Which shape came after the green one?”\n",
        "“How many times did the triangle appear?”\n",
        "“Was the last symbol red?”\n",
        "\n",
        "The twist is in indirect recall, challenging working memory and pattern recognition. Each correct answer gives a point. You win by reaching 5 points. You lose if you miss 3."
      ],
      "metadata": {
        "id": "8xhLdEFUE5do"
      }
    },
    {
      "cell_type": "code",
      "execution_count": 1,
      "metadata": {
        "id": "LUAXcmDaEsxS"
      },
      "outputs": [],
      "source": [
        "import random\n",
        "import time\n",
        "from IPython.display import clear_output"
      ]
    },
    {
      "cell_type": "code",
      "source": [
        "import random\n",
        "import time\n",
        "from IPython.display import clear_output\n",
        "\n",
        "symbols = ['🔺', '🔵', '🟨', '🟥', '🟩']\n",
        "colors = ['red', 'blue', 'yellow', 'red', 'green']\n",
        "score = 0\n",
        "lives = 3\n",
        "\n",
        "print(\"🎮 Welcome to NeuroMaze!\")\n",
        "print(\"Memorize the pattern of shapes and answer tricky questions!\\n\")\n",
        "\n",
        "while score < 5 and lives > 0:\n",
        "    sequence = random.choices(symbols, k=5)\n",
        "    color_seq = [colors[symbols.index(sym)] for sym in sequence]\n",
        "\n",
        "    print(\"🧠 Memorize this sequence:\")\n",
        "    print(' '.join(sequence))\n",
        "    time.sleep(5)\n",
        "    clear_output()\n",
        "\n",
        "    question_type = random.choice([\"after_color\", \"count_shape\", \"last_color\"])\n",
        "\n",
        "    if question_type == \"after_color\":\n",
        "        target = random.choice(color_seq[:-1])\n",
        "        idx = color_seq.index(target)\n",
        "        correct = sequence[idx + 1]\n",
        "        answer = input(f\"Which symbol came AFTER the {target} one? (🔺🔵🟨🟥🟩): \")\n",
        "\n",
        "    elif question_type == \"count_shape\":\n",
        "        target = random.choice(symbols)\n",
        "        correct = sequence.count(target)\n",
        "        answer = input(f\"How many times did {target} appear?: \")\n",
        "        answer = int(answer)\n",
        "\n",
        "    elif question_type == \"last_color\":\n",
        "        correct = color_seq[-1]\n",
        "        answer = input(\"What was the color of the LAST symbol?: \").lower()\n",
        "\n",
        "    if answer == correct or (isinstance(correct, int) and answer == correct):\n",
        "        print(\"✅ Correct!\\n\")\n",
        "        score += 1\n",
        "    else:\n",
        "        print(f\"❌ Wrong! The correct answer was: {correct}\\n\")\n",
        "        lives -= 1\n",
        "\n",
        "    print(f\"Score: {score} | Lives: {lives}\\n\")\n",
        "    time.sleep(2)\n",
        "    clear_output()\n",
        "\n",
        "if score == 5:\n",
        "    print(\"🏆 YOU WIN! Your memory is elite!\")\n",
        "else:\n",
        "    print(\"💀 GAME OVER. Try again, mind warrior.\")\n"
      ],
      "metadata": {
        "id": "fKRLcnIwFBY7"
      },
      "execution_count": null,
      "outputs": []
    }
  ]
}